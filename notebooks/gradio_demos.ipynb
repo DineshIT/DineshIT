{
  "nbformat": 4,
  "nbformat_minor": 0,
  "metadata": {
    "colab": {
      "provenance": [],
      "gpuType": "T4",
      "include_colab_link": true
    },
    "kernelspec": {
      "name": "python3",
      "display_name": "Python 3"
    },
    "language_info": {
      "name": "python"
    },
    "accelerator": "GPU"
  },
  "cells": [
    {
      "cell_type": "markdown",
      "metadata": {
        "id": "view-in-github",
        "colab_type": "text"
      },
      "source": [
        "<a href=\"https://colab.research.google.com/github/DineshIT/DineshIT/blob/main/notebooks/gradio_demos.ipynb\" target=\"_parent\"><img src=\"https://colab.research.google.com/assets/colab-badge.svg\" alt=\"Open In Colab\"/></a>"
      ]
    },
    {
      "cell_type": "markdown",
      "source": [
        "# Face Re-Aging Demos with Gradio\n",
        "To try out the Gradio Demos using Google Colab, run the cells below.\n",
        "Be sure to select a runtime with GPU (e.g. `Runtime > Change Runtime Type > T4 (GPU)`) to make the model run fast.\n",
        "\n",
        "You can choose to either run the regular inference demo or the video demo. The demo will open in a new tab."
      ],
      "metadata": {
        "id": "8UPyx2FOi0bW"
      }
    },
    {
      "cell_type": "markdown",
      "source": [
        "## Downloading files and model"
      ],
      "metadata": {
        "id": "V63jr7pmWMKX"
      }
    },
    {
      "cell_type": "code",
      "execution_count": 17,
      "metadata": {
        "id": "Fl-OWpFqVLad",
        "outputId": "5113ef29-7573-4953-d942-082d15a57ba8",
        "colab": {
          "base_uri": "https://localhost:8080/"
        }
      },
      "outputs": [
        {
          "output_type": "stream",
          "name": "stdout",
          "text": [
            "Cloning into 'face_reaging'...\n",
            "remote: Enumerating objects: 139, done.\u001b[K\n",
            "remote: Counting objects: 100% (51/51), done.\u001b[K\n",
            "remote: Compressing objects: 100% (37/37), done.\u001b[K\n",
            "remote: Total 139 (delta 23), reused 21 (delta 10), pack-reused 88 (from 1)\u001b[K\n",
            "Receiving objects: 100% (139/139), 48.26 MiB | 11.79 MiB/s, done.\n",
            "Resolving deltas: 100% (46/46), done.\n"
          ]
        }
      ],
      "source": [
        "!git clone https://github.com/timroelofs123/face_reaging"
      ]
    },
    {
      "cell_type": "code",
      "source": [
        "!git clone https://huggingface.co/timroelofs123/face_re-aging"
      ],
      "metadata": {
        "id": "ljqHF5EJWGoO",
        "outputId": "f5ebe702-ef91-46bc-cb9a-76c50388b1ea",
        "colab": {
          "base_uri": "https://localhost:8080/"
        }
      },
      "execution_count": 18,
      "outputs": [
        {
          "output_type": "stream",
          "name": "stdout",
          "text": [
            "fatal: destination path 'face_re-aging' already exists and is not an empty directory.\n"
          ]
        }
      ]
    },
    {
      "cell_type": "code",
      "source": [
        "%mv face_re-aging/best_unet_model.pth face_reaging/\n",
        "%cd face_reaging/"
      ],
      "metadata": {
        "id": "Vawn2UimWajy",
        "outputId": "09ebad88-4967-4996-956f-6906d6c98637",
        "colab": {
          "base_uri": "https://localhost:8080/"
        }
      },
      "execution_count": 19,
      "outputs": [
        {
          "output_type": "stream",
          "name": "stdout",
          "text": [
            "/content/face_reaging/face_reaging/face_reaging\n"
          ]
        }
      ]
    },
    {
      "cell_type": "markdown",
      "source": [
        "## Installing requirements"
      ],
      "metadata": {
        "id": "OezK6WkeWz2G"
      }
    },
    {
      "cell_type": "code",
      "source": [
        "%pip install gradio face_recognition antialiased_cnns kaleido av --quiet"
      ],
      "metadata": {
        "id": "U29EGu-tW69J"
      },
      "execution_count": 20,
      "outputs": []
    },
    {
      "cell_type": "markdown",
      "source": [
        "## Running demo"
      ],
      "metadata": {
        "id": "W1uWzCNyXafL"
      }
    },
    {
      "cell_type": "markdown",
      "source": [
        "Re-age your photo or video with the three demos."
      ],
      "metadata": {
        "id": "BTQxJNr2ipm_"
      }
    },
    {
      "cell_type": "code",
      "source": [
        "import gradio as gr\n",
        "import torch\n",
        "from model.models import UNet\n",
        "from scripts.test_functions import process_image, process_video"
      ],
      "metadata": {
        "id": "P-ZLGAp82ewt"
      },
      "execution_count": 21,
      "outputs": []
    },
    {
      "cell_type": "code",
      "source": [
        "# default settings\n",
        "window_size = 512\n",
        "stride = 256\n",
        "steps = 18\n",
        "frame_count = 100\n",
        "model_path = 'best_unet_model.pth'"
      ],
      "metadata": {
        "id": "izknf3I1XcyU"
      },
      "execution_count": 22,
      "outputs": []
    },
    {
      "cell_type": "code",
      "source": [
        "# The code from this block equivalent to the \"run\" function in scripts.gradio_demo\n",
        "\n",
        "device = torch.device(\"cuda:0\" if torch.cuda.is_available() else \"cpu\")\n",
        "unet_model = UNet().to(device)\n",
        "unet_model.load_state_dict(torch.load(model_path, map_location=device))\n",
        "unet_model.eval()\n",
        "\n",
        "def block_img(image):\n",
        "    source_age = 25\n",
        "    target_age = random.randint(65, 80)\n",
        "    return process_image(unet_model, image, video=False, source_age=source_age,\n",
        "                          target_age=target_age, window_size=window_size, stride=stride)\n",
        "\n",
        "def block_img_vid(image):\n",
        "    source_age = 25\n",
        "    target_age = random.randint(65, 80)\n",
        "    return process_image(unet_model, image, video=True, source_age=source_age,\n",
        "                          target_age=target_age, window_size=window_size, stride=stride, steps=steps)\n",
        "\n",
        "def block_vid(video_path):\n",
        "    source_age = 25\n",
        "    target_age = random.randint(65, 80)\n",
        "    return process_video(unet_model, video_path, source_age, target_age,\n",
        "                          window_size=window_size, stride=stride, frame_count=frame_count)\n",
        "\n",
        "demo_img = gr.Interface(\n",
        "    fn=block_img,\n",
        "    inputs=[gr.Image(type=\"pil\")],  # Removed sliders\n",
        "    outputs=\"image\",\n",
        "    examples=[\n",
        "        ['assets/gradio_example_images/1.png'],\n",
        "        ['assets/gradio_example_images/2.png'],\n",
        "        ['assets/gradio_example_images/3.png'],\n",
        "        ['assets/gradio_example_images/4.png'],\n",
        "        ['assets/gradio_example_images/5.png'],\n",
        "        ['assets/gradio_example_images/6.png']\n",
        "    ],\n",
        "    description=\"Input an image of a person, and they will be aged to a randomly selected age between 65 and 80.\"\n",
        ")\n",
        "\n",
        "demo_img_vid = gr.Interface(\n",
        "    fn=block_img_vid,\n",
        "    inputs=[gr.Image(type=\"pil\")],  # Removed slider\n",
        "    outputs=gr.Video(),\n",
        "    examples=[\n",
        "        ['assets/gradio_example_images/1.png'],\n",
        "        ['assets/gradio_example_images/2.png'],\n",
        "        ['assets/gradio_example_images/3.png'],\n",
        "        ['assets/gradio_example_images/4.png'],\n",
        "        ['assets/gradio_example_images/5.png'],\n",
        "        ['assets/gradio_example_images/6.png']\n",
        "    ],\n",
        "    description=\"Input an image of a person, and a video will be returned showing the aging effect.\"\n",
        ")\n",
        "\n",
        "demo_vid = gr.Interface(\n",
        "    fn=block_vid,\n",
        "    inputs=[gr.Video()],  # Removed sliders\n",
        "    outputs=gr.Video(),\n",
        "    examples=[\n",
        "        ['assets/gradio_example_images/orig.mp4'],\n",
        "    ],\n",
        "    description=\"Input a video of a person, and it will be aged frame-by-frame.\"\n",
        ")\n",
        "\n",
        "demo = gr.TabbedInterface([demo_img, demo_img_vid, demo_vid],\n",
        "                          tab_names=['Image inference demo', 'Image animation demo', 'Video inference demo'],\n",
        "                          title=\"Face Re-Aging Demo\",\n",
        "                          )\n"
      ],
      "metadata": {
        "id": "hHq3rGOVr0gQ",
        "outputId": "2743b052-df97-4d5a-ec60-86822f61c7fa",
        "colab": {
          "base_uri": "https://localhost:8080/"
        }
      },
      "execution_count": 23,
      "outputs": [
        {
          "output_type": "stream",
          "name": "stderr",
          "text": [
            "<ipython-input-23-d9c828614266>:5: FutureWarning: You are using `torch.load` with `weights_only=False` (the current default value), which uses the default pickle module implicitly. It is possible to construct malicious pickle data which will execute arbitrary code during unpickling (See https://github.com/pytorch/pytorch/blob/main/SECURITY.md#untrusted-models for more details). In a future release, the default value for `weights_only` will be flipped to `True`. This limits the functions that could be executed during unpickling. Arbitrary objects will no longer be allowed to be loaded via this mode unless they are explicitly allowlisted by the user via `torch.serialization.add_safe_globals`. We recommend you start setting `weights_only=True` for any use case where you don't have full control of the loaded file. Please open an issue on GitHub for any issues related to this experimental feature.\n",
            "  unet_model.load_state_dict(torch.load(model_path, map_location=device))\n"
          ]
        }
      ]
    },
    {
      "cell_type": "code",
      "source": [
        "demo.launch()"
      ],
      "metadata": {
        "id": "6q2f1hVB02t-",
        "outputId": "9c85cfb0-5170-40ff-84dd-51e790dc84d3",
        "colab": {
          "base_uri": "https://localhost:8080/",
          "height": 684
        }
      },
      "execution_count": 25,
      "outputs": [
        {
          "output_type": "stream",
          "name": "stdout",
          "text": [
            "Rerunning server... use `close()` to stop if you need to change `launch()` parameters.\n",
            "----\n",
            "Running Gradio in a Colab notebook requires sharing enabled. Automatically setting `share=True` (you can turn this off by setting `share=False` in `launch()` explicitly).\n",
            "\n",
            "Colab notebook detected. To show errors in colab notebook, set debug=True in launch()\n",
            "* Running on public URL: https://98f835f282379ce10c.gradio.live\n",
            "\n",
            "This share link expires in 72 hours. For free permanent hosting and GPU upgrades, run `gradio deploy` from the terminal in the working directory to deploy to Hugging Face Spaces (https://huggingface.co/spaces)\n"
          ]
        },
        {
          "output_type": "display_data",
          "data": {
            "text/plain": [
              "<IPython.core.display.HTML object>"
            ],
            "text/html": [
              "<div><iframe src=\"https://98f835f282379ce10c.gradio.live\" width=\"100%\" height=\"500\" allow=\"autoplay; camera; microphone; clipboard-read; clipboard-write;\" frameborder=\"0\" allowfullscreen></iframe></div>"
            ]
          },
          "metadata": {}
        },
        {
          "output_type": "execute_result",
          "data": {
            "text/plain": []
          },
          "metadata": {},
          "execution_count": 25
        }
      ]
    }
  ]
}