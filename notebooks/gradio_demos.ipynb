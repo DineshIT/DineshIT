{
  "nbformat": 4,
  "nbformat_minor": 0,
  "metadata": {
    "colab": {
      "provenance": [],
      "gpuType": "T4",
      "include_colab_link": true
    },
    "kernelspec": {
      "name": "python3",
      "display_name": "Python 3"
    },
    "language_info": {
      "name": "python"
    },
    "accelerator": "GPU"
  },
  "cells": [
    {
      "cell_type": "markdown",
      "metadata": {
        "id": "view-in-github",
        "colab_type": "text"
      },
      "source": [
        "<a href=\"https://colab.research.google.com/github/DineshIT/DineshIT/blob/main/notebooks/gradio_demos.ipynb\" target=\"_parent\"><img src=\"https://colab.research.google.com/assets/colab-badge.svg\" alt=\"Open In Colab\"/></a>"
      ]
    },
    {
      "cell_type": "markdown",
      "source": [
        "# Face Re-Aging Demos with Gradio\n",
        "To try out the Gradio Demos using Google Colab, run the cells below.\n",
        "Be sure to select a runtime with GPU (e.g. `Runtime > Change Runtime Type > T4 (GPU)`) to make the model run fast.\n",
        "\n",
        "You can choose to either run the regular inference demo or the video demo. The demo will open in a new tab."
      ],
      "metadata": {
        "id": "8UPyx2FOi0bW"
      }
    },
    {
      "cell_type": "markdown",
      "source": [
        "## Downloading files and model"
      ],
      "metadata": {
        "id": "V63jr7pmWMKX"
      }
    },
    {
      "cell_type": "code",
      "execution_count": 1,
      "metadata": {
        "id": "Fl-OWpFqVLad",
        "outputId": "a2cd88cb-2ad4-41f0-b2a6-776f217da24f",
        "colab": {
          "base_uri": "https://localhost:8080/"
        }
      },
      "outputs": [
        {
          "output_type": "stream",
          "name": "stdout",
          "text": [
            "Cloning into 'face_reaging'...\n",
            "remote: Enumerating objects: 139, done.\u001b[K\n",
            "remote: Counting objects: 100% (51/51), done.\u001b[K\n",
            "remote: Compressing objects: 100% (37/37), done.\u001b[K\n",
            "remote: Total 139 (delta 23), reused 21 (delta 10), pack-reused 88 (from 1)\u001b[K\n",
            "Receiving objects: 100% (139/139), 48.26 MiB | 19.67 MiB/s, done.\n",
            "Resolving deltas: 100% (46/46), done.\n"
          ]
        }
      ],
      "source": [
        "!git clone https://github.com/timroelofs123/face_reaging"
      ]
    },
    {
      "cell_type": "code",
      "source": [
        "!git clone https://huggingface.co/timroelofs123/face_re-aging"
      ],
      "metadata": {
        "id": "ljqHF5EJWGoO",
        "outputId": "02fbbea9-07c4-4491-ff5b-22ace28a58ec",
        "colab": {
          "base_uri": "https://localhost:8080/"
        }
      },
      "execution_count": 2,
      "outputs": [
        {
          "output_type": "stream",
          "name": "stdout",
          "text": [
            "Cloning into 'face_re-aging'...\n",
            "remote: Enumerating objects: 11, done.\u001b[K\n",
            "remote: Total 11 (delta 0), reused 0 (delta 0), pack-reused 11 (from 1)\u001b[K\n",
            "Unpacking objects: 100% (11/11), 3.27 KiB | 1.09 MiB/s, done.\n"
          ]
        }
      ]
    },
    {
      "cell_type": "code",
      "source": [
        "%mv face_re-aging/best_unet_model.pth face_reaging/\n",
        "%cd face_reaging/"
      ],
      "metadata": {
        "id": "Vawn2UimWajy",
        "outputId": "de1e2e2b-d64b-46ba-e8e6-431de25a01ee",
        "colab": {
          "base_uri": "https://localhost:8080/"
        }
      },
      "execution_count": 3,
      "outputs": [
        {
          "output_type": "stream",
          "name": "stdout",
          "text": [
            "/content/face_reaging\n"
          ]
        }
      ]
    },
    {
      "cell_type": "markdown",
      "source": [
        "## Installing requirements"
      ],
      "metadata": {
        "id": "OezK6WkeWz2G"
      }
    },
    {
      "cell_type": "code",
      "source": [
        "%pip install gradio face_recognition antialiased_cnns kaleido av --quiet"
      ],
      "metadata": {
        "id": "U29EGu-tW69J",
        "outputId": "9375cf36-4f1c-4a3e-c83c-11eb1adea298",
        "colab": {
          "base_uri": "https://localhost:8080/"
        }
      },
      "execution_count": 4,
      "outputs": [
        {
          "output_type": "stream",
          "name": "stdout",
          "text": [
            "\u001b[2K     \u001b[90m━━━━━━━━━━━━━━━━━━━━━━━━━━━━━━━━━━━━━━━━\u001b[0m \u001b[32m100.1/100.1 MB\u001b[0m \u001b[31m10.5 MB/s\u001b[0m eta \u001b[36m0:00:00\u001b[0m\n",
            "\u001b[?25h  Preparing metadata (setup.py) ... \u001b[?25l\u001b[?25hdone\n",
            "\u001b[2K   \u001b[90m━━━━━━━━━━━━━━━━━━━━━━━━━━━━━━━━━━━━━━━━\u001b[0m \u001b[32m62.3/62.3 MB\u001b[0m \u001b[31m9.6 MB/s\u001b[0m eta \u001b[36m0:00:00\u001b[0m\n",
            "\u001b[2K   \u001b[90m━━━━━━━━━━━━━━━━━━━━━━━━━━━━━━━━━━━━━━━━\u001b[0m \u001b[32m322.1/322.1 kB\u001b[0m \u001b[31m28.0 MB/s\u001b[0m eta \u001b[36m0:00:00\u001b[0m\n",
            "\u001b[2K   \u001b[90m━━━━━━━━━━━━━━━━━━━━━━━━━━━━━━━━━━━━━━━━\u001b[0m \u001b[32m79.9/79.9 MB\u001b[0m \u001b[31m9.4 MB/s\u001b[0m eta \u001b[36m0:00:00\u001b[0m\n",
            "\u001b[2K   \u001b[90m━━━━━━━━━━━━━━━━━━━━━━━━━━━━━━━━━━━━━━━━\u001b[0m \u001b[32m39.7/39.7 MB\u001b[0m \u001b[31m18.8 MB/s\u001b[0m eta \u001b[36m0:00:00\u001b[0m\n",
            "\u001b[2K   \u001b[90m━━━━━━━━━━━━━━━━━━━━━━━━━━━━━━━━━━━━━━━━\u001b[0m \u001b[32m94.9/94.9 kB\u001b[0m \u001b[31m9.9 MB/s\u001b[0m eta \u001b[36m0:00:00\u001b[0m\n",
            "\u001b[2K   \u001b[90m━━━━━━━━━━━━━━━━━━━━━━━━━━━━━━━━━━━━━━━━\u001b[0m \u001b[32m11.2/11.2 MB\u001b[0m \u001b[31m73.0 MB/s\u001b[0m eta \u001b[36m0:00:00\u001b[0m\n",
            "\u001b[2K   \u001b[90m━━━━━━━━━━━━━━━━━━━━━━━━━━━━━━━━━━━━━━━━\u001b[0m \u001b[32m72.0/72.0 kB\u001b[0m \u001b[31m8.4 MB/s\u001b[0m eta \u001b[36m0:00:00\u001b[0m\n",
            "\u001b[2K   \u001b[90m━━━━━━━━━━━━━━━━━━━━━━━━━━━━━━━━━━━━━━━━\u001b[0m \u001b[32m62.3/62.3 kB\u001b[0m \u001b[31m5.4 MB/s\u001b[0m eta \u001b[36m0:00:00\u001b[0m\n",
            "\u001b[?25h  Building wheel for face-recognition-models (setup.py) ... \u001b[?25l\u001b[?25hdone\n"
          ]
        }
      ]
    },
    {
      "cell_type": "markdown",
      "source": [
        "## Running demo"
      ],
      "metadata": {
        "id": "W1uWzCNyXafL"
      }
    },
    {
      "cell_type": "markdown",
      "source": [
        "Re-age your photo or video with the three demos."
      ],
      "metadata": {
        "id": "BTQxJNr2ipm_"
      }
    },
    {
      "cell_type": "code",
      "source": [
        "import gradio as gr\n",
        "import torch\n",
        "from model.models import UNet\n",
        "from scripts.test_functions import process_image, process_video"
      ],
      "metadata": {
        "id": "P-ZLGAp82ewt"
      },
      "execution_count": 5,
      "outputs": []
    },
    {
      "cell_type": "code",
      "source": [
        "# default settings\n",
        "window_size = 512\n",
        "stride = 256\n",
        "steps = 18\n",
        "frame_count = 100\n",
        "model_path = 'best_unet_model.pth'"
      ],
      "metadata": {
        "id": "izknf3I1XcyU"
      },
      "execution_count": 6,
      "outputs": []
    },
    {
      "cell_type": "code",
      "source": [
        "# The code from this block equivalent to the \"run\" function in scripts.gradio_demo\n",
        "\n",
        "device = torch.device(\"cuda:0\" if torch.cuda.is_available() else \"cpu\")\n",
        "unet_model = UNet().to(device)\n",
        "unet_model.load_state_dict(torch.load(model_path, map_location=device))\n",
        "unet_model.eval()\n",
        "\n",
        "def block_img(image, source_age, target_age):\n",
        "    return process_image(unet_model, image, video=False, source_age=source_age,\n",
        "                          target_age=target_age, window_size=window_size, stride=stride)\n",
        "\n",
        "def block_img_vid(image, source_age):\n",
        "    return process_image(unet_model, image, video=True, source_age=source_age,\n",
        "                          target_age=0, window_size=window_size, stride=stride, steps=steps)\n",
        "\n",
        "def block_vid(video_path, source_age, target_age):\n",
        "    return process_video(unet_model, video_path, source_age, target_age,\n",
        "                          window_size=window_size, stride=stride, frame_count=frame_count)\n",
        "\n",
        "demo_img = gr.Interface(\n",
        "    fn=block_img,\n",
        "    inputs=[\n",
        "        gr.Image(type=\"pil\"),\n",
        "        gr.Slider(10, 90, value=20, step=1, label=\"Current age\", info=\"Choose your current age\"),\n",
        "        gr.Slider(10, 90, value=80, step=1, label=\"Target age\", info=\"Choose the age you want to become\")\n",
        "    ],\n",
        "    outputs=\"image\",\n",
        "    examples=[\n",
        "        ['assets/gradio_example_images/1.png', 20, 80],\n",
        "        ['assets/gradio_example_images/2.png', 75, 40],\n",
        "        ['assets/gradio_example_images/3.png', 30, 70],\n",
        "        ['assets/gradio_example_images/4.png', 22, 60],\n",
        "        ['assets/gradio_example_images/5.png', 28, 75],\n",
        "        ['assets/gradio_example_images/6.png', 35, 15]\n",
        "    ],\n",
        "    description=\"Input an image of a person and age them from the source age to the target age.\"\n",
        ")\n",
        "\n",
        "demo_img_vid = gr.Interface(\n",
        "    fn=block_img_vid,\n",
        "    inputs=[\n",
        "        gr.Image(type=\"pil\"),\n",
        "        gr.Slider(10, 90, value=20, step=1, label=\"Current age\", info=\"Choose your current age\"),\n",
        "    ],\n",
        "    outputs=gr.Video(),\n",
        "    examples=[\n",
        "        ['assets/gradio_example_images/1.png', 20],\n",
        "        ['assets/gradio_example_images/2.png', 75],\n",
        "        ['assets/gradio_example_images/3.png', 30],\n",
        "        ['assets/gradio_example_images/4.png', 22],\n",
        "        ['assets/gradio_example_images/5.png', 28],\n",
        "        ['assets/gradio_example_images/6.png', 35]\n",
        "    ],\n",
        "    description=\"Input an image of a person and a video will be returned of the person at different ages.\"\n",
        ")\n",
        "\n",
        "demo_vid = gr.Interface(\n",
        "    fn=block_vid,\n",
        "    inputs=[\n",
        "        gr.Video(),\n",
        "        gr.Slider(10, 90, value=20, step=1, label=\"Current age\", info=\"Choose your current age\"),\n",
        "        gr.Slider(10, 90, value=80, step=1, label=\"Target age\", info=\"Choose the age you want to become\")\n",
        "    ],\n",
        "    outputs=gr.Video(),\n",
        "    examples=[\n",
        "        ['assets/gradio_example_images/orig.mp4', 35, 60],\n",
        "    ],\n",
        "    description=\"Input a video of a person, and it will be aged frame-by-frame.\"\n",
        ")\n",
        "\n",
        "demo = gr.TabbedInterface([demo_img, demo_img_vid, demo_vid],\n",
        "                          tab_names=['Image inference demo', 'Image animation demo', 'Video inference demo'],\n",
        "                          title=\"Face Re-Aging Demo\",\n",
        "                          )"
      ],
      "metadata": {
        "id": "hHq3rGOVr0gQ",
        "outputId": "f285fe69-6ec9-4763-d113-1f11297d211d",
        "colab": {
          "base_uri": "https://localhost:8080/"
        }
      },
      "execution_count": 7,
      "outputs": [
        {
          "output_type": "stream",
          "name": "stderr",
          "text": [
            "<ipython-input-7-e8b46674c5af>:5: FutureWarning: You are using `torch.load` with `weights_only=False` (the current default value), which uses the default pickle module implicitly. It is possible to construct malicious pickle data which will execute arbitrary code during unpickling (See https://github.com/pytorch/pytorch/blob/main/SECURITY.md#untrusted-models for more details). In a future release, the default value for `weights_only` will be flipped to `True`. This limits the functions that could be executed during unpickling. Arbitrary objects will no longer be allowed to be loaded via this mode unless they are explicitly allowlisted by the user via `torch.serialization.add_safe_globals`. We recommend you start setting `weights_only=True` for any use case where you don't have full control of the loaded file. Please open an issue on GitHub for any issues related to this experimental feature.\n",
            "  unet_model.load_state_dict(torch.load(model_path, map_location=device))\n"
          ]
        }
      ]
    },
    {
      "cell_type": "code",
      "source": [
        "demo.launch()"
      ],
      "metadata": {
        "id": "6q2f1hVB02t-",
        "outputId": "4789c7b3-a6bd-45b9-ef7a-36c29450c544",
        "colab": {
          "base_uri": "https://localhost:8080/",
          "height": 648
        }
      },
      "execution_count": 8,
      "outputs": [
        {
          "output_type": "stream",
          "name": "stdout",
          "text": [
            "Running Gradio in a Colab notebook requires sharing enabled. Automatically setting `share=True` (you can turn this off by setting `share=False` in `launch()` explicitly).\n",
            "\n",
            "Colab notebook detected. To show errors in colab notebook, set debug=True in launch()\n",
            "* Running on public URL: https://511b9d61a6deee457d.gradio.live\n",
            "\n",
            "This share link expires in 72 hours. For free permanent hosting and GPU upgrades, run `gradio deploy` from the terminal in the working directory to deploy to Hugging Face Spaces (https://huggingface.co/spaces)\n"
          ]
        },
        {
          "output_type": "display_data",
          "data": {
            "text/plain": [
              "<IPython.core.display.HTML object>"
            ],
            "text/html": [
              "<div><iframe src=\"https://511b9d61a6deee457d.gradio.live\" width=\"100%\" height=\"500\" allow=\"autoplay; camera; microphone; clipboard-read; clipboard-write;\" frameborder=\"0\" allowfullscreen></iframe></div>"
            ]
          },
          "metadata": {}
        },
        {
          "output_type": "execute_result",
          "data": {
            "text/plain": []
          },
          "metadata": {},
          "execution_count": 8
        }
      ]
    }
  ]
}